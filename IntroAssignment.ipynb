{
  "nbformat": 4,
  "nbformat_minor": 0,
  "metadata": {
    "colab": {
      "name": "IntroAssignment.ipynb",
      "provenance": [],
      "include_colab_link": true
    },
    "kernelspec": {
      "name": "python3",
      "display_name": "Python 3"
    },
    "language_info": {
      "name": "python"
    }
  },
  "cells": [
    {
      "cell_type": "markdown",
      "metadata": {
        "id": "view-in-github",
        "colab_type": "text"
      },
      "source": [
        "<a href=\"https://colab.research.google.com/github/dflannelly/Intro-Assignment/blob/main/IntroAssignment.ipynb\" target=\"_parent\"><img src=\"https://colab.research.google.com/assets/colab-badge.svg\" alt=\"Open In Colab\"/></a>"
      ]
    },
    {
      "cell_type": "code",
      "execution_count": null,
      "metadata": {
        "colab": {
          "base_uri": "https://localhost:8080/"
        },
        "id": "ThPVzYrNuIUH",
        "outputId": "42b4153f-e723-4341-fd40-66a9b3d828cc"
      },
      "outputs": [
        {
          "output_type": "stream",
          "name": "stdout",
          "text": [
            "Hello there Bob!\n"
          ]
        }
      ],
      "source": [
        "def hello_world(name):\n",
        "  print(\"Hello there \"+name+\"!\")\n",
        "\n",
        "hello_world(\"Bob\")\n",
        "\n",
        "#This is bob function"
      ]
    },
    {
      "cell_type": "code",
      "source": [
        "trtr"
      ],
      "metadata": {
        "id": "REuMR0994z86"
      },
      "execution_count": null,
      "outputs": []
    },
    {
      "cell_type": "code",
      "source": [
        "gfdgknldfjgpsa"
      ],
      "metadata": {
        "id": "rIhEPU8Y5Trw"
      },
      "execution_count": null,
      "outputs": []
    }
  ]
}